{
 "cells": [
  {
   "cell_type": "code",
   "execution_count": 2,
   "id": "411afe43",
   "metadata": {},
   "outputs": [
    {
     "data": {
      "text/plain": [
       "list"
      ]
     },
     "execution_count": 2,
     "metadata": {},
     "output_type": "execute_result"
    }
   ],
   "source": [
    "#question1\n",
    "\"\"\"What exactly is []?\"\"\"\n",
    "#It is an function for list\n",
    "[]\n",
    "type([])"
   ]
  },
  {
   "cell_type": "code",
   "execution_count": null,
   "id": "2b5c3842",
   "metadata": {},
   "outputs": [],
   "source": [
    "#question 2\n",
    "\"\"\"In a list of values stored in a variable called spam, how would you assign the value &#39;hello&#39; as the\n",
    "third value? (Assume [2, 4, 6, 8, 10] are in spam.)\"\"\""
   ]
  },
  {
   "cell_type": "code",
   "execution_count": 24,
   "id": "f427bfaf",
   "metadata": {},
   "outputs": [],
   "source": [
    "spam=[2, 4, 6, 8, 10]"
   ]
  },
  {
   "cell_type": "code",
   "execution_count": 25,
   "id": "3a809617",
   "metadata": {},
   "outputs": [],
   "source": [
    "spam[2]=\"hello\""
   ]
  },
  {
   "cell_type": "code",
   "execution_count": 26,
   "id": "71f3f677",
   "metadata": {},
   "outputs": [
    {
     "data": {
      "text/plain": [
       "[2, 4, 'hello', 8, 10]"
      ]
     },
     "execution_count": 26,
     "metadata": {},
     "output_type": "execute_result"
    }
   ],
   "source": [
    "spam"
   ]
  },
  {
   "cell_type": "code",
   "execution_count": 28,
   "id": "aa6374f5",
   "metadata": {},
   "outputs": [],
   "source": [
    "l=[\"a\",\"b\",\"c\",\"d\"]"
   ]
  },
  {
   "cell_type": "code",
   "execution_count": 29,
   "id": "37decef7",
   "metadata": {},
   "outputs": [],
   "source": [
    "spam.append(l)"
   ]
  },
  {
   "cell_type": "code",
   "execution_count": 30,
   "id": "3ce6e583",
   "metadata": {},
   "outputs": [
    {
     "data": {
      "text/plain": [
       "[2, 4, 'hello', 8, 10, ['a', 'b', 'c', 'd']]"
      ]
     },
     "execution_count": 30,
     "metadata": {},
     "output_type": "execute_result"
    }
   ],
   "source": [
    "spam"
   ]
  },
  {
   "cell_type": "code",
   "execution_count": 34,
   "id": "a514604c",
   "metadata": {},
   "outputs": [
    {
     "data": {
      "text/plain": [
       "8"
      ]
     },
     "execution_count": 34,
     "metadata": {},
     "output_type": "execute_result"
    }
   ],
   "source": [
    "#question 3\n",
    "\"\"\"What is the value of spam[int(int(&#39;3&#39; * 2) / 11)]?\"\"\"\n",
    "spam[int(int('3'*2)/11)]"
   ]
  },
  {
   "cell_type": "code",
   "execution_count": 35,
   "id": "38752e1d",
   "metadata": {},
   "outputs": [
    {
     "data": {
      "text/plain": [
       "['a', 'b', 'c', 'd']"
      ]
     },
     "execution_count": 35,
     "metadata": {},
     "output_type": "execute_result"
    }
   ],
   "source": [
    "#question4\n",
    "\"\"\"What is the value of spam[-1]?\"\"\"\n",
    "spam[-1]\n",
    "#negative index count from end"
   ]
  },
  {
   "cell_type": "code",
   "execution_count": 37,
   "id": "c6059ad8",
   "metadata": {},
   "outputs": [
    {
     "data": {
      "text/plain": [
       "[2, 4]"
      ]
     },
     "execution_count": 37,
     "metadata": {},
     "output_type": "execute_result"
    }
   ],
   "source": [
    "#question5\n",
    "\"\"\"What is the value of spam[:2]?\"\"\"\n",
    "spam[:2]"
   ]
  },
  {
   "cell_type": "code",
   "execution_count": 38,
   "id": "edb28f51",
   "metadata": {},
   "outputs": [],
   "source": [
    "#question 6\n",
    "\"\"\"Let&#39;s pretend bacon has the list [3.14, &#39;cat,&#39; 11, &#39;cat,&#39; True] for the next three questions.\"\"\"\n",
    "bacon=[3.14,\"cat\",11,\"cat\",True]"
   ]
  },
  {
   "cell_type": "code",
   "execution_count": 39,
   "id": "5e8c6cab",
   "metadata": {},
   "outputs": [
    {
     "data": {
      "text/plain": [
       "[3.14, 'cat', 11, 'cat', True]"
      ]
     },
     "execution_count": 39,
     "metadata": {},
     "output_type": "execute_result"
    }
   ],
   "source": [
    "bacon"
   ]
  },
  {
   "cell_type": "code",
   "execution_count": 40,
   "id": "fb44950c",
   "metadata": {},
   "outputs": [
    {
     "data": {
      "text/plain": [
       "1"
      ]
     },
     "execution_count": 40,
     "metadata": {},
     "output_type": "execute_result"
    }
   ],
   "source": [
    "#question 7\n",
    "\"\"\"What is the value of bacon.index(\"cat\")?\"\"\"\n",
    "bacon.index(\"cat\")"
   ]
  },
  {
   "cell_type": "code",
   "execution_count": 42,
   "id": "8908d8af",
   "metadata": {},
   "outputs": [],
   "source": [
    "#question 8\n",
    "\"\"\"How does bacon.append(99) change the look of the list value in bacon?\"\"\"\n",
    "bacon.append(99)"
   ]
  },
  {
   "cell_type": "code",
   "execution_count": 43,
   "id": "199c4496",
   "metadata": {},
   "outputs": [
    {
     "data": {
      "text/plain": [
       "[3.14, 'cat', 11, 'cat', True, 99]"
      ]
     },
     "execution_count": 43,
     "metadata": {},
     "output_type": "execute_result"
    }
   ],
   "source": [
    "bacon"
   ]
  },
  {
   "cell_type": "code",
   "execution_count": 45,
   "id": "c5e47f6f",
   "metadata": {},
   "outputs": [
    {
     "data": {
      "text/plain": [
       "[3.14, 11, True, 99]"
      ]
     },
     "execution_count": 45,
     "metadata": {},
     "output_type": "execute_result"
    }
   ],
   "source": [
    "#question  9\n",
    "\"\"\"VHow does bacon.remove(&#39;cat&#39;) change the look of the list in bacon?\"\"\"\n",
    "bacon.remove(\"cat\")\n",
    "bacon"
   ]
  },
  {
   "cell_type": "code",
   "execution_count": null,
   "id": "7d8753fe",
   "metadata": {},
   "outputs": [],
   "source": [
    "#question 9\n",
    "\"\"\"What are the list concatenation and list replication operators?\"\"\"\n",
    "#list concatination is \"+\"\n",
    "#list replication is \"*\""
   ]
  },
  {
   "cell_type": "code",
   "execution_count": null,
   "id": "78a188e4",
   "metadata": {},
   "outputs": [],
   "source": [
    "#question 10\n",
    "\"\"\"What is difference between the list methods append() and insert()?\"\"\"\n",
    "#list append add value to the end and lise insert can add them anywhere"
   ]
  },
  {
   "cell_type": "code",
   "execution_count": null,
   "id": "579ca0ac",
   "metadata": {},
   "outputs": [],
   "source": [
    "#question 11\n",
    "\"\"\"What are the two methods for removing items from a list?\"\"\"\n",
    "#by inbuilt function remove andby del statement"
   ]
  },
  {
   "cell_type": "code",
   "execution_count": null,
   "id": "40e02f03",
   "metadata": {},
   "outputs": [],
   "source": [
    "#question 12\n",
    "\"\"\"Describe how list values and string values are identical.\"\"\"\n",
    "#both lists and strings can be passed to len(), \n",
    "#have indexes and slices, be used in for loops,\n",
    "#be concatenated or replicated, and be used with the in and not in operators.\n",
    "\n"
   ]
  },
  {
   "cell_type": "code",
   "execution_count": null,
   "id": "e2566aed",
   "metadata": {},
   "outputs": [],
   "source": [
    "#question 13\n",
    "\"\"\"What is the difference between tuples and lists?\"\"\"\n",
    "#tuple is written with parenthesis (and) and are immutable\n",
    "#while list is square bracket[and] are muttable"
   ]
  },
  {
   "cell_type": "code",
   "execution_count": 47,
   "id": "51dd4909",
   "metadata": {},
   "outputs": [
    {
     "data": {
      "text/plain": [
       "42"
      ]
     },
     "execution_count": 47,
     "metadata": {},
     "output_type": "execute_result"
    }
   ],
   "source": [
    "#question 14\n",
    "\"\"\"How do you type a tuple value that only contains the integer 42?\"\"\"\n",
    "t=(42)\n",
    "t"
   ]
  },
  {
   "cell_type": "code",
   "execution_count": null,
   "id": "88399bb5",
   "metadata": {},
   "outputs": [],
   "source": [
    "#question 15\n",
    "\"\"\"How do you get a list values tuple form? How do you get a tuple values list form?\"\"\"\n",
    "#tuple() and list[] function respectively"
   ]
  },
  {
   "cell_type": "code",
   "execution_count": null,
   "id": "5d549024",
   "metadata": {},
   "outputs": [],
   "source": [
    "#question 16\n",
    "\"\"\"'Variables that contain list values are not necessarily lists themselves. Instead, what do they contain'\"\"\"\n",
    "#they contain refrences to list"
   ]
  },
  {
   "cell_type": "code",
   "execution_count": null,
   "id": "fa1ba5da",
   "metadata": {},
   "outputs": [],
   "source": [
    "#question 17\n",
    "\"\"\"How do you distinguish between copy.copy() and copy.deepcopy()?\"\"\"\n",
    "#the copy.copy() function will do a shallow copy of a list, while the copy.deepcopy() function will do a \n",
    "#deep copy of a list. That is, only copy.deepcopy() will duplicate any lists inside the list"
   ]
  }
 ],
 "metadata": {
  "kernelspec": {
   "display_name": "Python 3 (ipykernel)",
   "language": "python",
   "name": "python3"
  },
  "language_info": {
   "codemirror_mode": {
    "name": "ipython",
    "version": 3
   },
   "file_extension": ".py",
   "mimetype": "text/x-python",
   "name": "python",
   "nbconvert_exporter": "python",
   "pygments_lexer": "ipython3",
   "version": "3.9.7"
  }
 },
 "nbformat": 4,
 "nbformat_minor": 5
}
